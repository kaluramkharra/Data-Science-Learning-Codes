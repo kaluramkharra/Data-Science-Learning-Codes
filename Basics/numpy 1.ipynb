{
 "cells": [
  {
   "cell_type": "code",
   "execution_count": 1,
   "id": "077b7695",
   "metadata": {},
   "outputs": [],
   "source": [
    "import numpy as np"
   ]
  },
  {
   "cell_type": "code",
   "execution_count": 2,
   "id": "5b088dd3",
   "metadata": {},
   "outputs": [],
   "source": [
    "import pandas as pd"
   ]
  },
  {
   "cell_type": "code",
   "execution_count": 3,
   "id": "8fb13bc2",
   "metadata": {},
   "outputs": [
    {
     "data": {
      "text/plain": [
       "array([2, 3, 4, 5])"
      ]
     },
     "execution_count": 3,
     "metadata": {},
     "output_type": "execute_result"
    }
   ],
   "source": [
    "np.array([2,3,4,5])\n"
   ]
  },
  {
   "cell_type": "code",
   "execution_count": 4,
   "id": "80a10bfb",
   "metadata": {},
   "outputs": [
    {
     "data": {
      "text/plain": [
       "array([[2, 3, 4, 5, 5],\n",
       "       [3, 2, 1, 4, 5]])"
      ]
     },
     "execution_count": 4,
     "metadata": {},
     "output_type": "execute_result"
    }
   ],
   "source": [
    "np.array([[2,3,4,5,5],[3,2,1,4,5]])"
   ]
  },
  {
   "cell_type": "code",
   "execution_count": 5,
   "id": "9b36d195",
   "metadata": {},
   "outputs": [
    {
     "data": {
      "text/plain": [
       "array([[ 1,  2,  4,  5,  6],\n",
       "       [ 1, 23,  3,  4,  5]])"
      ]
     },
     "execution_count": 5,
     "metadata": {},
     "output_type": "execute_result"
    }
   ],
   "source": [
    "np.array([[1,2,4,5,6],[1,23,3,4,5]])"
   ]
  },
  {
   "cell_type": "code",
   "execution_count": null,
   "id": "cd49d213",
   "metadata": {},
   "outputs": [],
   "source": []
  },
  {
   "cell_type": "code",
   "execution_count": 6,
   "id": "55ed18eb",
   "metadata": {},
   "outputs": [
    {
     "data": {
      "text/plain": [
       "array([[0., 0., 0.],\n",
       "       [0., 0., 0.]])"
      ]
     },
     "execution_count": 6,
     "metadata": {},
     "output_type": "execute_result"
    }
   ],
   "source": [
    "np.zeros((2,3))"
   ]
  },
  {
   "cell_type": "code",
   "execution_count": 7,
   "id": "1589484e",
   "metadata": {},
   "outputs": [
    {
     "data": {
      "text/plain": [
       "array([[1., 1., 1.],\n",
       "       [1., 1., 1.]])"
      ]
     },
     "execution_count": 7,
     "metadata": {},
     "output_type": "execute_result"
    }
   ],
   "source": [
    "np.ones((2,3))"
   ]
  },
  {
   "cell_type": "code",
   "execution_count": 8,
   "id": "60d59355",
   "metadata": {},
   "outputs": [
    {
     "data": {
      "text/plain": [
       "array([[1., 0., 0., 0., 0.],\n",
       "       [0., 1., 0., 0., 0.],\n",
       "       [0., 0., 1., 0., 0.],\n",
       "       [0., 0., 0., 1., 0.],\n",
       "       [0., 0., 0., 0., 1.]])"
      ]
     },
     "execution_count": 8,
     "metadata": {},
     "output_type": "execute_result"
    }
   ],
   "source": [
    "np.eye(5)"
   ]
  },
  {
   "cell_type": "code",
   "execution_count": 9,
   "id": "59a75ccd",
   "metadata": {},
   "outputs": [
    {
     "data": {
      "text/plain": [
       "array([[5, 5, 5, 5],\n",
       "       [5, 5, 5, 5]])"
      ]
     },
     "execution_count": 9,
     "metadata": {},
     "output_type": "execute_result"
    }
   ],
   "source": [
    "ful = np.full((2,4),5)\n",
    "ful"
   ]
  },
  {
   "cell_type": "code",
   "execution_count": 10,
   "id": "63c98e88",
   "metadata": {},
   "outputs": [
    {
     "name": "stdout",
     "output_type": "stream",
     "text": [
      "5\n",
      "5\n",
      "5\n",
      "5\n",
      "[5 5 5 5]\n",
      "5\n",
      "5\n",
      "5\n",
      "5\n",
      "[5 5 5 5]\n"
     ]
    }
   ],
   "source": [
    "for i in ful:\n",
    "    for j in i:\n",
    "        print(j)\n",
    "    print(i)"
   ]
  },
  {
   "cell_type": "code",
   "execution_count": 11,
   "id": "548f24cb",
   "metadata": {},
   "outputs": [
    {
     "data": {
      "text/plain": [
       "False"
      ]
     },
     "execution_count": 11,
     "metadata": {},
     "output_type": "execute_result"
    }
   ],
   "source": [
    "ful[0][2] == 4"
   ]
  },
  {
   "cell_type": "code",
   "execution_count": 12,
   "id": "49942152",
   "metadata": {},
   "outputs": [],
   "source": [
    "ful[0][2] = 6"
   ]
  },
  {
   "cell_type": "code",
   "execution_count": 13,
   "id": "6c1695e6",
   "metadata": {},
   "outputs": [
    {
     "data": {
      "text/plain": [
       "array([[5, 5, 6, 5],\n",
       "       [5, 5, 5, 5]])"
      ]
     },
     "execution_count": 13,
     "metadata": {},
     "output_type": "execute_result"
    }
   ],
   "source": [
    "ful"
   ]
  },
  {
   "cell_type": "code",
   "execution_count": 14,
   "id": "f50dbb32",
   "metadata": {},
   "outputs": [
    {
     "data": {
      "text/plain": [
       "array([[0.56728247, 0.32984257, 0.15742406],\n",
       "       [0.90938819, 0.408559  , 0.73733073]])"
      ]
     },
     "execution_count": 14,
     "metadata": {},
     "output_type": "execute_result"
    }
   ],
   "source": [
    "np.random.random([2,3])"
   ]
  },
  {
   "cell_type": "code",
   "execution_count": 15,
   "id": "722744ef",
   "metadata": {},
   "outputs": [
    {
     "data": {
      "text/plain": [
       "array([[0.85736323, 0.31873953, 0.10654466, 0.13852236, 0.59932756],\n",
       "       [0.76770429, 0.9207845 , 0.89530802, 0.11969891, 0.35498239],\n",
       "       [0.80557261, 0.65480107, 0.85095721, 0.53158615, 0.45919463],\n",
       "       [0.38373596, 0.18485447, 0.28700949, 0.7686882 , 0.81677536]])"
      ]
     },
     "execution_count": 15,
     "metadata": {},
     "output_type": "execute_result"
    }
   ],
   "source": [
    "np.random.random([4,5])"
   ]
  },
  {
   "cell_type": "code",
   "execution_count": 16,
   "id": "2e42f0ea",
   "metadata": {},
   "outputs": [
    {
     "data": {
      "text/plain": [
       "array([10, 15, 20])"
      ]
     },
     "execution_count": 16,
     "metadata": {},
     "output_type": "execute_result"
    }
   ],
   "source": [
    "np.arange(10,25,5)"
   ]
  },
  {
   "cell_type": "code",
   "execution_count": 17,
   "id": "7acbb50d",
   "metadata": {},
   "outputs": [
    {
     "data": {
      "text/plain": [
       "array([0.  , 0.25, 0.5 , 0.75, 1.  , 1.25, 1.5 , 1.75, 2.  ])"
      ]
     },
     "execution_count": 17,
     "metadata": {},
     "output_type": "execute_result"
    }
   ],
   "source": [
    "np.linspace(0,2,9)"
   ]
  },
  {
   "cell_type": "code",
   "execution_count": 18,
   "id": "90f81a7b",
   "metadata": {},
   "outputs": [
    {
     "data": {
      "text/plain": [
       "array([[0.56728247, 0.32984257, 0.15742406],\n",
       "       [0.90938819, 0.408559  , 0.73733073]])"
      ]
     },
     "execution_count": 18,
     "metadata": {},
     "output_type": "execute_result"
    }
   ],
   "source": [
    "np.empty((2,3))"
   ]
  },
  {
   "cell_type": "code",
   "execution_count": 19,
   "id": "ed11759f",
   "metadata": {},
   "outputs": [],
   "source": [
    "arr = np.random.random((3,4))"
   ]
  },
  {
   "cell_type": "code",
   "execution_count": 20,
   "id": "61c16aa3",
   "metadata": {},
   "outputs": [
    {
     "data": {
      "text/plain": [
       "12"
      ]
     },
     "execution_count": 20,
     "metadata": {},
     "output_type": "execute_result"
    }
   ],
   "source": [
    "arr.size"
   ]
  },
  {
   "cell_type": "code",
   "execution_count": 21,
   "id": "373f2ef3",
   "metadata": {},
   "outputs": [
    {
     "data": {
      "text/plain": [
       "(3, 4)"
      ]
     },
     "execution_count": 21,
     "metadata": {},
     "output_type": "execute_result"
    }
   ],
   "source": [
    "arr.shape"
   ]
  },
  {
   "cell_type": "code",
   "execution_count": 22,
   "id": "17a43af6",
   "metadata": {},
   "outputs": [
    {
     "data": {
      "text/plain": [
       "(3, 4)"
      ]
     },
     "execution_count": 22,
     "metadata": {},
     "output_type": "execute_result"
    }
   ],
   "source": [
    "len(arr),len(arr[2])"
   ]
  },
  {
   "cell_type": "code",
   "execution_count": 23,
   "id": "ed7aae9f",
   "metadata": {},
   "outputs": [
    {
     "data": {
      "text/plain": [
       "2"
      ]
     },
     "execution_count": 23,
     "metadata": {},
     "output_type": "execute_result"
    }
   ],
   "source": [
    "arr.ndim"
   ]
  },
  {
   "cell_type": "code",
   "execution_count": 24,
   "id": "2bc899b2",
   "metadata": {},
   "outputs": [
    {
     "data": {
      "text/plain": [
       "dtype('float64')"
      ]
     },
     "execution_count": 24,
     "metadata": {},
     "output_type": "execute_result"
    }
   ],
   "source": [
    "arr.dtype #print the type of array elements"
   ]
  },
  {
   "cell_type": "code",
   "execution_count": 25,
   "id": "c5f8e146",
   "metadata": {},
   "outputs": [
    {
     "data": {
      "text/plain": [
       "'float64'"
      ]
     },
     "execution_count": 25,
     "metadata": {},
     "output_type": "execute_result"
    }
   ],
   "source": [
    "arr.dtype.name"
   ]
  },
  {
   "cell_type": "code",
   "execution_count": 26,
   "id": "9b07ebfb",
   "metadata": {},
   "outputs": [],
   "source": [
    "# array mathematics\n",
    "a = np.random.random((3,4)) # we can only use sum and subtraction,divide and multiply if both the arrays are have same dimension\n",
    "b = np.random.random((3,4))"
   ]
  },
  {
   "cell_type": "code",
   "execution_count": 27,
   "id": "50b92b35",
   "metadata": {},
   "outputs": [
    {
     "data": {
      "text/plain": [
       "(array([[ 0.28992799,  0.4902314 ,  0.17034559, -0.45326547],\n",
       "        [ 0.45834972,  0.46964528,  0.37117078, -0.48702155],\n",
       "        [-0.26418973,  0.42461386,  0.32678048,  0.1043759 ]]),\n",
       " array([[ 0.28992799,  0.4902314 ,  0.17034559, -0.45326547],\n",
       "        [ 0.45834972,  0.46964528,  0.37117078, -0.48702155],\n",
       "        [-0.26418973,  0.42461386,  0.32678048,  0.1043759 ]]))"
      ]
     },
     "execution_count": 27,
     "metadata": {},
     "output_type": "execute_result"
    }
   ],
   "source": [
    "a-b,np.subtract(a,b)  #both are the same functionalities"
   ]
  },
  {
   "cell_type": "code",
   "execution_count": 28,
   "id": "2a68f1b1",
   "metadata": {},
   "outputs": [
    {
     "data": {
      "text/plain": [
       "(array([[0.64418942, 0.68226912, 1.27141956, 1.18974617],\n",
       "        [0.82226361, 0.73268004, 0.63570966, 1.13990204],\n",
       "        [0.75538516, 1.11207797, 1.26880835, 1.78562774]]),\n",
       " array([[0.64418942, 0.68226912, 1.27141956, 1.18974617],\n",
       "        [0.82226361, 0.73268004, 0.63570966, 1.13990204],\n",
       "        [0.75538516, 1.11207797, 1.26880835, 1.78562774]]))"
      ]
     },
     "execution_count": 28,
     "metadata": {},
     "output_type": "execute_result"
    }
   ],
   "source": [
    "a+b,np.add(a,b) #both are the same functionalities"
   ]
  },
  {
   "cell_type": "code",
   "execution_count": 29,
   "id": "d463cae3",
   "metadata": {},
   "outputs": [
    {
     "data": {
      "text/plain": [
       "(array([[2.63680248, 6.10557382, 1.30941717, 0.44825045],\n",
       "        [3.51900099, 4.57097507, 3.80617177, 0.40129758],\n",
       "        [0.48176494, 2.23530481, 1.69378091, 1.1241645 ]]),\n",
       " array([[2.63680248, 6.10557382, 1.30941717, 0.44825045],\n",
       "        [3.51900099, 4.57097507, 3.80617177, 0.40129758],\n",
       "        [0.48176494, 2.23530481, 1.69378091, 1.1241645 ]]))"
      ]
     },
     "execution_count": 29,
     "metadata": {},
     "output_type": "execute_result"
    }
   ],
   "source": [
    "a/b,np.divide(a,b)  #both are the same functionalities"
   ]
  },
  {
   "cell_type": "code",
   "execution_count": 30,
   "id": "630621ff",
   "metadata": {},
   "outputs": [
    {
     "data": {
      "text/plain": [
       "(array([[0.08273044, 0.05629108, 0.39687252, 0.30251159],\n",
       "        [0.11650824, 0.07906334, 0.06658976, 0.26554667],\n",
       "        [0.12520263, 0.26410512, 0.37577229, 0.79439303]]),\n",
       " array([[0.08273044, 0.05629108, 0.39687252, 0.30251159],\n",
       "        [0.11650824, 0.07906334, 0.06658976, 0.26554667],\n",
       "        [0.12520263, 0.26410512, 0.37577229, 0.79439303]]))"
      ]
     },
     "execution_count": 30,
     "metadata": {},
     "output_type": "execute_result"
    }
   ],
   "source": [
    "a*b,np.multiply(a,b)  #both are the same functionalities"
   ]
  },
  {
   "cell_type": "code",
   "execution_count": 31,
   "id": "fb678b14",
   "metadata": {},
   "outputs": [
    {
     "data": {
      "text/plain": [
       "array([[1.59529505, 1.79723659, 2.0562472 , 1.44518935],\n",
       "       [1.89706256, 1.82423854, 1.654403  , 1.38602543],\n",
       "       [1.27838519, 2.15619677, 2.22063772, 2.57281806]])"
      ]
     },
     "execution_count": 31,
     "metadata": {},
     "output_type": "execute_result"
    }
   ],
   "source": [
    "np.exp(a)"
   ]
  },
  {
   "cell_type": "code",
   "execution_count": null,
   "id": "68db4779",
   "metadata": {},
   "outputs": [],
   "source": []
  },
  {
   "cell_type": "code",
   "execution_count": 32,
   "id": "6db8b766",
   "metadata": {},
   "outputs": [
    {
     "data": {
      "text/plain": [
       "array([[0.68341693, 0.76566981, 0.84904804, 0.60682811],\n",
       "       [0.80019164, 0.7753468 , 0.70953521, 0.5713495 ],\n",
       "       [0.49557816, 0.87655343, 0.89319338, 0.97211204]])"
      ]
     },
     "execution_count": 32,
     "metadata": {},
     "output_type": "execute_result"
    }
   ],
   "source": [
    "np.sqrt(a)"
   ]
  },
  {
   "cell_type": "code",
   "execution_count": 33,
   "id": "ee69fbd0",
   "metadata": {},
   "outputs": [
    {
     "data": {
      "text/plain": [
       "array([[-0.76130032, -0.53400852, -0.32727902, -0.99901943],\n",
       "       [-0.44580805, -0.50888973, -0.6862903 , -1.11950836],\n",
       "       [-1.40406039, -0.26351524, -0.22590434, -0.05656843]])"
      ]
     },
     "execution_count": 33,
     "metadata": {},
     "output_type": "execute_result"
    }
   ],
   "source": [
    "np.log(a)"
   ]
  },
  {
   "cell_type": "code",
   "execution_count": 34,
   "id": "08379098",
   "metadata": {},
   "outputs": [
    {
     "data": {
      "text/plain": [
       "array([[14.01176117, 17.5875078 , 21.62647724, 11.04721048],\n",
       "       [19.20920006, 18.03487985, 15.10320659,  9.7932074 ],\n",
       "       [ 7.36793143, 23.05037739, 23.93383246, 28.3500546 ]])"
      ]
     },
     "execution_count": 34,
     "metadata": {},
     "output_type": "execute_result"
    }
   ],
   "source": [
    "a.dot(30)"
   ]
  },
  {
   "cell_type": "code",
   "execution_count": 35,
   "id": "1a7ce7c1",
   "metadata": {},
   "outputs": [
    {
     "data": {
      "text/plain": [
       "6.970521548626188"
      ]
     },
     "execution_count": 35,
     "metadata": {},
     "output_type": "execute_result"
    }
   ],
   "source": [
    "# aggregate functions\n",
    "a.sum()"
   ]
  },
  {
   "cell_type": "code",
   "execution_count": 36,
   "id": "693dead9",
   "metadata": {},
   "outputs": [
    {
     "data": {
      "text/plain": [
       "0.24559771431457877"
      ]
     },
     "execution_count": 36,
     "metadata": {},
     "output_type": "execute_result"
    }
   ],
   "source": [
    "a.min()"
   ]
  },
  {
   "cell_type": "code",
   "execution_count": 37,
   "id": "7c8be3f4",
   "metadata": {},
   "outputs": [
    {
     "data": {
      "text/plain": [
       "0.9450018199857747"
      ]
     },
     "execution_count": 37,
     "metadata": {},
     "output_type": "execute_result"
    }
   ],
   "source": [
    "a.max()"
   ]
  },
  {
   "cell_type": "code",
   "execution_count": 38,
   "id": "206b8b4e",
   "metadata": {},
   "outputs": [
    {
     "data": {
      "text/plain": [
       "array([0.46705871, 1.05330897, 1.77419154, 2.14243189, 2.78273856,\n",
       "       3.38390122, 3.88734144, 4.21378169, 4.4593794 , 5.22772531,\n",
       "       6.02551973, 6.97052155])"
      ]
     },
     "execution_count": 38,
     "metadata": {},
     "output_type": "execute_result"
    }
   ],
   "source": [
    "a.cumsum()"
   ]
  },
  {
   "cell_type": "code",
   "execution_count": 39,
   "id": "e5f2f759",
   "metadata": {},
   "outputs": [
    {
     "data": {
      "text/plain": [
       "0.580876795718849"
      ]
     },
     "execution_count": 39,
     "metadata": {},
     "output_type": "execute_result"
    }
   ],
   "source": [
    "a.mean() # measure of central tendency"
   ]
  },
  {
   "cell_type": "code",
   "execution_count": 40,
   "id": "00124b8e",
   "metadata": {},
   "outputs": [
    {
     "data": {
      "text/plain": [
       "array([[ 1.        ,  0.39383044,  0.08393772],\n",
       "       [ 0.39383044,  1.        , -0.7655001 ],\n",
       "       [ 0.08393772, -0.7655001 ,  1.        ]])"
      ]
     },
     "execution_count": 40,
     "metadata": {},
     "output_type": "execute_result"
    }
   ],
   "source": [
    "np.corrcoef(a) # a.mean() is working but a.median() ,a.corrcoef() are not working"
   ]
  },
  {
   "cell_type": "code",
   "execution_count": 41,
   "id": "0738923c",
   "metadata": {},
   "outputs": [
    {
     "data": {
      "text/plain": [
       "0.5937064608352141"
      ]
     },
     "execution_count": 41,
     "metadata": {},
     "output_type": "execute_result"
    }
   ],
   "source": [
    "np.median(a)"
   ]
  },
  {
   "cell_type": "code",
   "execution_count": 42,
   "id": "e8f094ca",
   "metadata": {},
   "outputs": [
    {
     "data": {
      "text/plain": [
       "0.580876795718849"
      ]
     },
     "execution_count": 42,
     "metadata": {},
     "output_type": "execute_result"
    }
   ],
   "source": [
    "np.mean(a)"
   ]
  },
  {
   "cell_type": "code",
   "execution_count": 43,
   "id": "a7465d4f",
   "metadata": {},
   "outputs": [
    {
     "data": {
      "text/plain": [
       "0.19993209986589358"
      ]
     },
     "execution_count": 43,
     "metadata": {},
     "output_type": "execute_result"
    }
   ],
   "source": [
    "np.std(a) # standard deviation and squre of std is varience"
   ]
  },
  {
   "cell_type": "code",
   "execution_count": 44,
   "id": "e5a9c629",
   "metadata": {},
   "outputs": [
    {
     "data": {
      "text/plain": [
       "array([[0.46705871, 0.58625026, 0.72088257, 0.36824035],\n",
       "       [0.64030667, 0.60116266, 0.50344022, 0.32644025],\n",
       "       [0.24559771, 0.76834591, 0.79779442, 0.94500182]])"
      ]
     },
     "execution_count": 44,
     "metadata": {},
     "output_type": "execute_result"
    }
   ],
   "source": [
    "b = a.view() #creating a view copy\n",
    "b"
   ]
  },
  {
   "cell_type": "code",
   "execution_count": 45,
   "id": "10179518",
   "metadata": {},
   "outputs": [],
   "source": [
    "c = a.copy() #create a deep copy"
   ]
  },
  {
   "cell_type": "code",
   "execution_count": 46,
   "id": "b501b125",
   "metadata": {},
   "outputs": [
    {
     "data": {
      "text/plain": [
       "array([[0.24559771, 0.58625026, 0.50344022, 0.32644025],\n",
       "       [0.46705871, 0.60116266, 0.72088257, 0.36824035],\n",
       "       [0.64030667, 0.76834591, 0.79779442, 0.94500182]])"
      ]
     },
     "execution_count": 46,
     "metadata": {},
     "output_type": "execute_result"
    }
   ],
   "source": [
    "a.sort(axis=0)\n",
    "a"
   ]
  },
  {
   "cell_type": "code",
   "execution_count": 47,
   "id": "23e353c3",
   "metadata": {},
   "outputs": [],
   "source": [
    "#array manipulation\n",
    "\n"
   ]
  },
  {
   "cell_type": "code",
   "execution_count": 48,
   "id": "0060e29e",
   "metadata": {},
   "outputs": [
    {
     "data": {
      "text/plain": [
       "array([0.24559771, 0.58625026, 0.50344022, 0.32644025, 0.46705871,\n",
       "       0.60116266, 0.72088257, 0.36824035, 0.64030667, 0.76834591,\n",
       "       0.79779442, 0.94500182])"
      ]
     },
     "execution_count": 48,
     "metadata": {},
     "output_type": "execute_result"
    }
   ],
   "source": [
    "a.ravel()"
   ]
  },
  {
   "cell_type": "code",
   "execution_count": 49,
   "id": "4940e5cf",
   "metadata": {},
   "outputs": [
    {
     "data": {
      "text/plain": [
       "array([[0.24559771, 0.58625026],\n",
       "       [0.50344022, 0.32644025],\n",
       "       [0.46705871, 0.60116266],\n",
       "       [0.72088257, 0.36824035],\n",
       "       [0.64030667, 0.76834591],\n",
       "       [0.79779442, 0.94500182]])"
      ]
     },
     "execution_count": 49,
     "metadata": {},
     "output_type": "execute_result"
    }
   ],
   "source": [
    "a.reshape(6,2) # we can convert only 3*4 into 4*3 or 6*2 or 2*6 or 12*1 or 1*12 ------->IMPORTANT"
   ]
  },
  {
   "cell_type": "code",
   "execution_count": 50,
   "id": "c3b4d409",
   "metadata": {},
   "outputs": [
    {
     "data": {
      "text/plain": [
       "array([0.24559771, 0.58625026, 0.50344022, 0.32644025, 0.46705871,\n",
       "       0.60116266, 0.72088257, 0.36824035, 0.64030667, 0.76834591,\n",
       "       0.79779442, 0.94500182])"
      ]
     },
     "execution_count": 50,
     "metadata": {},
     "output_type": "execute_result"
    }
   ],
   "source": [
    "a[a>0.0000000001] # Boolean indexing --------->IMportant"
   ]
  },
  {
   "cell_type": "code",
   "execution_count": 51,
   "id": "da72a1e9",
   "metadata": {},
   "outputs": [
    {
     "data": {
      "text/plain": [
       "array([[0.24559771, 0.46705871, 0.64030667],\n",
       "       [0.58625026, 0.60116266, 0.76834591],\n",
       "       [0.50344022, 0.72088257, 0.79779442],\n",
       "       [0.32644025, 0.36824035, 0.94500182]])"
      ]
     },
     "execution_count": 51,
     "metadata": {},
     "output_type": "execute_result"
    }
   ],
   "source": [
    "a.T"
   ]
  },
  {
   "cell_type": "code",
   "execution_count": 52,
   "id": "ac34e924",
   "metadata": {},
   "outputs": [
    {
     "data": {
      "text/plain": [
       "array([0.24559771, 0.58625026, 0.50344022, 0.32644025, 0.46705871,\n",
       "       0.60116266, 0.72088257, 0.36824035, 0.64030667, 0.76834591,\n",
       "       0.79779442, 0.94500182, 3.        , 4.        ])"
      ]
     },
     "execution_count": 52,
     "metadata": {},
     "output_type": "execute_result"
    }
   ],
   "source": [
    "np.append(a,[3,4])"
   ]
  },
  {
   "cell_type": "code",
   "execution_count": 53,
   "id": "03cd02a4",
   "metadata": {},
   "outputs": [
    {
     "data": {
      "text/plain": [
       "array([0.24559771, 0.58625026, 0.50344022, 0.32644025, 3.        ,\n",
       "       0.46705871, 0.60116266, 0.72088257, 0.36824035, 0.64030667,\n",
       "       0.76834591, 0.79779442, 0.94500182])"
      ]
     },
     "execution_count": 53,
     "metadata": {},
     "output_type": "execute_result"
    }
   ],
   "source": [
    "np.insert(a,4,3) #put 3 on position 4 in array a --->"
   ]
  },
  {
   "cell_type": "code",
   "execution_count": 54,
   "id": "095ecf3c",
   "metadata": {},
   "outputs": [
    {
     "data": {
      "text/plain": [
       "array([0.24559771, 0.58625026, 0.32644025, 0.46705871, 0.60116266,\n",
       "       0.72088257, 0.36824035, 0.64030667, 0.76834591, 0.79779442,\n",
       "       0.94500182])"
      ]
     },
     "execution_count": 54,
     "metadata": {},
     "output_type": "execute_result"
    }
   ],
   "source": [
    "np.delete(a,[2]) "
   ]
  },
  {
   "cell_type": "code",
   "execution_count": 55,
   "id": "ec341e40",
   "metadata": {},
   "outputs": [
    {
     "data": {
      "text/plain": [
       "array([[0.24559771, 0.58625026, 0.50344022, 0.32644025, 0.24559771,\n",
       "        0.58625026, 0.50344022, 0.32644025],\n",
       "       [0.46705871, 0.60116266, 0.72088257, 0.36824035, 0.46705871,\n",
       "        0.60116266, 0.72088257, 0.36824035],\n",
       "       [0.64030667, 0.76834591, 0.79779442, 0.94500182, 0.64030667,\n",
       "        0.76834591, 0.79779442, 0.94500182]])"
      ]
     },
     "execution_count": 55,
     "metadata": {},
     "output_type": "execute_result"
    }
   ],
   "source": [
    "np.concatenate((a,b),axis=1)"
   ]
  },
  {
   "cell_type": "code",
   "execution_count": 56,
   "id": "784192a3",
   "metadata": {},
   "outputs": [
    {
     "data": {
      "text/plain": [
       "array([[0.24559771, 0.58625026, 0.50344022, 0.32644025],\n",
       "       [0.46705871, 0.60116266, 0.72088257, 0.36824035],\n",
       "       [0.64030667, 0.76834591, 0.79779442, 0.94500182]])"
      ]
     },
     "execution_count": 56,
     "metadata": {},
     "output_type": "execute_result"
    }
   ],
   "source": [
    "a"
   ]
  },
  {
   "cell_type": "code",
   "execution_count": 57,
   "id": "8439eb1c",
   "metadata": {},
   "outputs": [
    {
     "data": {
      "text/plain": [
       "True"
      ]
     },
     "execution_count": 57,
     "metadata": {},
     "output_type": "execute_result"
    }
   ],
   "source": [
    "a[0][2] == a[0,2] #---> very important to know"
   ]
  },
  {
   "cell_type": "code",
   "execution_count": 58,
   "id": "40873662",
   "metadata": {},
   "outputs": [
    {
     "data": {
      "text/plain": [
       "[array([[0.24559771, 0.58625026, 0.50344022, 0.32644025]]),\n",
       " array([[0.46705871, 0.60116266, 0.72088257, 0.36824035]]),\n",
       " array([[0.64030667, 0.76834591, 0.79779442, 0.94500182]])]"
      ]
     },
     "execution_count": 58,
     "metadata": {},
     "output_type": "execute_result"
    }
   ],
   "source": [
    "np.vsplit(a,3) # vertically split into 3 equal rows"
   ]
  },
  {
   "cell_type": "code",
   "execution_count": 59,
   "id": "a6a6cbe0",
   "metadata": {},
   "outputs": [
    {
     "data": {
      "text/plain": [
       "[array([[0.24559771],\n",
       "        [0.46705871],\n",
       "        [0.64030667]]),\n",
       " array([[0.58625026],\n",
       "        [0.60116266],\n",
       "        [0.76834591]]),\n",
       " array([[0.50344022],\n",
       "        [0.72088257],\n",
       "        [0.79779442]]),\n",
       " array([[0.32644025],\n",
       "        [0.36824035],\n",
       "        [0.94500182]])]"
      ]
     },
     "execution_count": 59,
     "metadata": {},
     "output_type": "execute_result"
    }
   ],
   "source": [
    "np.hsplit(a,4) # horizontally split into 4 columns"
   ]
  },
  {
   "cell_type": "code",
   "execution_count": 60,
   "id": "ab8a43d2",
   "metadata": {},
   "outputs": [
    {
     "data": {
      "text/plain": [
       "array([[0.24559771, 0.58625026, 0.50344022, 0.32644025],\n",
       "       [0.46705871, 0.60116266, 0.72088257, 0.36824035],\n",
       "       [0.64030667, 0.76834591, 0.79779442, 0.94500182]])"
      ]
     },
     "execution_count": 60,
     "metadata": {},
     "output_type": "execute_result"
    }
   ],
   "source": [
    "np.vstack(a) # stack vertically "
   ]
  },
  {
   "cell_type": "code",
   "execution_count": 61,
   "id": "1262e472",
   "metadata": {},
   "outputs": [
    {
     "data": {
      "text/plain": [
       "array([0.24559771, 0.58625026, 0.50344022, 0.32644025, 0.46705871,\n",
       "       0.60116266, 0.72088257, 0.36824035, 0.64030667, 0.76834591,\n",
       "       0.79779442, 0.94500182])"
      ]
     },
     "execution_count": 61,
     "metadata": {},
     "output_type": "execute_result"
    }
   ],
   "source": [
    "np.hstack(a) # stack horizontally"
   ]
  },
  {
   "cell_type": "code",
   "execution_count": null,
   "id": "5528d0a7",
   "metadata": {},
   "outputs": [],
   "source": []
  }
 ],
 "metadata": {
  "kernelspec": {
   "display_name": "Python 3 (ipykernel)",
   "language": "python",
   "name": "python3"
  },
  "language_info": {
   "codemirror_mode": {
    "name": "ipython",
    "version": 3
   },
   "file_extension": ".py",
   "mimetype": "text/x-python",
   "name": "python",
   "nbconvert_exporter": "python",
   "pygments_lexer": "ipython3",
   "version": "3.10.6"
  }
 },
 "nbformat": 4,
 "nbformat_minor": 5
}
