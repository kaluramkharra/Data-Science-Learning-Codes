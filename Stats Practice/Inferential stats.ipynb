{
 "cells": [
  {
   "cell_type": "code",
   "execution_count": 1,
   "id": "c6b46923",
   "metadata": {},
   "outputs": [],
   "source": [
    "import numpy as np\n",
    "import pandas as pd\n",
    "import matplotlib.pyplot as plt\n",
    "import seaborn as sns"
   ]
  },
  {
   "cell_type": "code",
   "execution_count": 2,
   "id": "2c479567",
   "metadata": {},
   "outputs": [],
   "source": [
    "iris_df = sns.load_dataset('iris')"
   ]
  },
  {
   "cell_type": "code",
   "execution_count": 3,
   "id": "d14458e8",
   "metadata": {},
   "outputs": [
    {
     "data": {
      "text/plain": [
       "0      3.5\n",
       "1      3.0\n",
       "2      3.2\n",
       "3      3.1\n",
       "4      3.6\n",
       "      ... \n",
       "145    3.0\n",
       "146    2.5\n",
       "147    3.0\n",
       "148    3.4\n",
       "149    3.0\n",
       "Name: sepal_width, Length: 150, dtype: float64"
      ]
     },
     "execution_count": 3,
     "metadata": {},
     "output_type": "execute_result"
    }
   ],
   "source": [
    "population = iris_df['sepal_width']\n",
    "population"
   ]
  },
  {
   "cell_type": "code",
   "execution_count": 4,
   "id": "61b488e5",
   "metadata": {},
   "outputs": [],
   "source": [
    "sample = population.sample(n=30)"
   ]
  },
  {
   "cell_type": "code",
   "execution_count": 5,
   "id": "b3115971",
   "metadata": {},
   "outputs": [
    {
     "data": {
      "text/plain": [
       "30"
      ]
     },
     "execution_count": 5,
     "metadata": {},
     "output_type": "execute_result"
    }
   ],
   "source": [
    "sample.count()"
   ]
  },
  {
   "cell_type": "code",
   "execution_count": 6,
   "id": "0f307c6b",
   "metadata": {},
   "outputs": [],
   "source": [
    "# the measure which describes sample data called statistic\n",
    "# the measure which describes population data called parameter"
   ]
  },
  {
   "cell_type": "code",
   "execution_count": 7,
   "id": "70ae7061",
   "metadata": {},
   "outputs": [
    {
     "data": {
      "text/plain": [
       "3.0999999999999996"
      ]
     },
     "execution_count": 7,
     "metadata": {},
     "output_type": "execute_result"
    }
   ],
   "source": [
    "sample.mean()# statistic"
   ]
  },
  {
   "cell_type": "code",
   "execution_count": 8,
   "id": "31c4971a",
   "metadata": {},
   "outputs": [
    {
     "data": {
      "text/plain": [
       "3.0573333333333337"
      ]
     },
     "execution_count": 8,
     "metadata": {},
     "output_type": "execute_result"
    }
   ],
   "source": [
    "population.mean() #called parameter"
   ]
  },
  {
   "cell_type": "code",
   "execution_count": 9,
   "id": "1c6d49ea",
   "metadata": {},
   "outputs": [],
   "source": [
    "# our sample size is small and not contains all information about population so this leads to standard error"
   ]
  },
  {
   "cell_type": "code",
   "execution_count": 10,
   "id": "fac8199d",
   "metadata": {},
   "outputs": [],
   "source": [
    "# Point estimation - The value of statistics which estimate the value of parameter\n",
    "# our sample mean can estimate population mean"
   ]
  },
  {
   "cell_type": "code",
   "execution_count": 11,
   "id": "9990e37e",
   "metadata": {},
   "outputs": [
    {
     "data": {
      "text/plain": [
       "<AxesSubplot: xlabel='sepal_width', ylabel='Count'>"
      ]
     },
     "execution_count": 11,
     "metadata": {},
     "output_type": "execute_result"
    },
    {
     "data": {
      "image/png": "[encoded data removed]",
      "text/plain": [
       "<Figure size 432x288 with 1 Axes>"
      ]
     },
     "metadata": {
      "needs_background": "light"
     },
     "output_type": "display_data"
    }
   ],
   "source": [
    "sns.histplot(sample,kde=True)"
   ]
  },
  {
   "cell_type": "code",
   "execution_count": 12,
   "id": "6aeb398c",
   "metadata": {},
   "outputs": [
    {
     "data": {
      "text/plain": [
       "<AxesSubplot: xlabel='sepal_width', ylabel='Count'>"
      ]
     },
     "execution_count": 12,
     "metadata": {},
     "output_type": "execute_result"
    },
    {
     "data": {
      "image/png": "[encoded data removed]",
      "text/plain": [
       "<Figure size 432x288 with 1 Axes>"
      ]
     },
     "metadata": {
      "needs_background": "light"
     },
     "output_type": "display_data"
    }
   ],
   "source": [
    "sns.histplot(population,kde=True)"
   ]
  },
  {
   "cell_type": "code",
   "execution_count": 13,
   "id": "c109dfc7",
   "metadata": {},
   "outputs": [],
   "source": [
    "# Confidence interval = (point estimate) + or - (margin error)\n",
    "# lower bound  =(point estimate) - (margin error)\n",
    "# upper bound  =(point estimate) + (margin error)"
   ]
  },
  {
   "cell_type": "code",
   "execution_count": 14,
   "id": "5cc1f635",
   "metadata": {},
   "outputs": [],
   "source": [
    "# assuming\n",
    "alpha = 0.05\n",
    "alpha_by_2 = 0.025 # always rembember we need to check z table for 1-0.025 (for ztest)\n",
    "# we check z value for 0.975\n",
    "z_value = 1.906\n",
    "standard_error = population.std()/np.sqrt(sample.count())\n",
    "lower_bound = sample.mean()-z_value*standard_error\n",
    "upper_bound = sample.mean()+z_value*standard_error"
   ]
  },
  {
   "cell_type": "code",
   "execution_count": 15,
   "id": "ae6a2695",
   "metadata": {},
   "outputs": [
    {
     "data": {
      "text/plain": [
       "2.948324461407359"
      ]
     },
     "execution_count": 15,
     "metadata": {},
     "output_type": "execute_result"
    }
   ],
   "source": [
    "lower_bound"
   ]
  },
  {
   "cell_type": "code",
   "execution_count": 16,
   "id": "302fed01",
   "metadata": {},
   "outputs": [
    {
     "data": {
      "text/plain": [
       "3.2516755385926404"
      ]
     },
     "execution_count": 16,
     "metadata": {},
     "output_type": "execute_result"
    }
   ],
   "source": [
    "upper_bound"
   ]
  },
  {
   "cell_type": "code",
   "execution_count": 17,
   "id": "30aa223c",
   "metadata": {},
   "outputs": [],
   "source": [
    "# Z-TEST \n",
    "# we are supposing that we have population std and also we have n>=30"
   ]
  },
  {
   "cell_type": "code",
   "execution_count": 18,
   "id": "c6b9529b",
   "metadata": {},
   "outputs": [],
   "source": [
    "from statsmodels.stats.weightstats import ztest as ztest"
   ]
  },
  {
   "cell_type": "code",
   "execution_count": 19,
   "id": "be0fab2f",
   "metadata": {},
   "outputs": [
    {
     "data": {
      "text/plain": [
       "(0.604092545376455, 0.545782115437665)"
      ]
     },
     "execution_count": 19,
     "metadata": {},
     "output_type": "execute_result"
    }
   ],
   "source": [
    "ztest(sample,value=population.mean()) # returned first value is ztest value and second value is p value"
   ]
  },
  {
   "cell_type": "code",
   "execution_count": 20,
   "id": "85787772",
   "metadata": {},
   "outputs": [
    {
     "name": "stdout",
     "output_type": "stream",
     "text": [
      "Reject the null hypothesis\n"
     ]
    }
   ],
   "source": [
    "p_value=0.545782115437665\n",
    "if alpha>p_value:\n",
    "    print(\"Reject the null hypothesis\")\n",
    "else:\n",
    "    print('Failed to reject null hypothesis')"
   ]
  },
  {
   "cell_type": "code",
   "execution_count": 21,
   "id": "0d271ff1",
   "metadata": {},
   "outputs": [
    {
     "name": "stdout",
     "output_type": "stream",
     "text": [
      "Reject the null hypothesis\n"
     ]
    }
   ],
   "source": [
    "# Another way as per theory\n",
    "# our alpha value is 0.05 \n",
    "# z table value for 1-0.05 is 1.6\n",
    "if np.abs(-2.0814112026040994)>np.abs(1.6):\n",
    "    print(\"Reject the null hypothesis\")\n",
    "else:\n",
    "    print('Failed to reject null hypothesis')"
   ]
  },
  {
   "cell_type": "code",
   "execution_count": 22,
   "id": "bbbce612",
   "metadata": {},
   "outputs": [],
   "source": [
    "# Now if we do not have standard deviation of population data then we have perform t-test\n",
    "sample1 = sample\n",
    "sample2 = population.sample(30)"
   ]
  },
  {
   "cell_type": "code",
   "execution_count": 23,
   "id": "91294632",
   "metadata": {},
   "outputs": [],
   "source": [
    "# T-TEST\n",
    "from scipy import stats\n",
    "# two sample t test\n",
    "t_value,p_value = stats.ttest_ind(sample1,sample2)  "
   ]
  },
  {
   "cell_type": "code",
   "execution_count": 24,
   "id": "f235daab",
   "metadata": {},
   "outputs": [
    {
     "data": {
      "text/plain": [
       "-1.1405158984122017"
      ]
     },
     "execution_count": 24,
     "metadata": {},
     "output_type": "execute_result"
    }
   ],
   "source": [
    "t_value"
   ]
  },
  {
   "cell_type": "code",
   "execution_count": 25,
   "id": "039c2fc9",
   "metadata": {},
   "outputs": [
    {
     "data": {
      "text/plain": [
       "0.2587591390429018"
      ]
     },
     "execution_count": 25,
     "metadata": {},
     "output_type": "execute_result"
    }
   ],
   "source": [
    "p_value"
   ]
  },
  {
   "cell_type": "code",
   "execution_count": 26,
   "id": "0953f4ac",
   "metadata": {},
   "outputs": [
    {
     "name": "stdout",
     "output_type": "stream",
     "text": [
      "Failed to reject null hypothesis\n"
     ]
    }
   ],
   "source": [
    "# 1.\n",
    "if alpha>p_value:\n",
    "    print(\"Reject the null hypothesis\")\n",
    "else:\n",
    "    print('Failed to reject null hypothesis')"
   ]
  },
  {
   "cell_type": "code",
   "execution_count": 27,
   "id": "52b753f6",
   "metadata": {},
   "outputs": [
    {
     "name": "stdout",
     "output_type": "stream",
     "text": [
      "Reject the null hypothesis\n"
     ]
    }
   ],
   "source": [
    "# 2.\n",
    "# alpha = 0.05,degree of freedom = n-1 = 29\n",
    "# from t table ,tscore = 0.683\n",
    "tscore = 0.683 # this is decision rule boundation \n",
    "if t_value<-0.683 or t_value>0.683:\n",
    "    print(\"Reject the null hypothesis\")\n",
    "else:\n",
    "    print('Failed to reject null hypothesis')"
   ]
  },
  {
   "cell_type": "code",
   "execution_count": null,
   "id": "dd3df4ed",
   "metadata": {},
   "outputs": [],
   "source": []
  },
  {
   "cell_type": "markdown",
   "id": "0a6540f4",
   "metadata": {},
   "source": [
    "CHI SQUARE TEST"
   ]
  },
  {
   "cell_type": "code",
   "execution_count": 28,
   "id": "d09060b5",
   "metadata": {},
   "outputs": [],
   "source": [
    "# Chi square test \n",
    "# non parametric,perform on categorical data"
   ]
  },
  {
   "cell_type": "code",
   "execution_count": 29,
   "id": "6793c03f",
   "metadata": {},
   "outputs": [],
   "source": [
    "chi_population = iris_df['species']"
   ]
  },
  {
   "cell_type": "code",
   "execution_count": 30,
   "id": "bd119853",
   "metadata": {},
   "outputs": [
    {
     "data": {
      "text/plain": [
       "66     versicolor\n",
       "56     versicolor\n",
       "114     virginica\n",
       "132     virginica\n",
       "146     virginica\n",
       "147     virginica\n",
       "134     virginica\n",
       "73     versicolor\n",
       "105     virginica\n",
       "62     versicolor\n",
       "75     versicolor\n",
       "148     virginica\n",
       "69     versicolor\n",
       "113     virginica\n",
       "55     versicolor\n",
       "144     virginica\n",
       "149     virginica\n",
       "14         setosa\n",
       "93     versicolor\n",
       "76     versicolor\n",
       "123     virginica\n",
       "48         setosa\n",
       "84     versicolor\n",
       "8          setosa\n",
       "57     versicolor\n",
       "67     versicolor\n",
       "29         setosa\n",
       "63     versicolor\n",
       "53     versicolor\n",
       "109     virginica\n",
       "Name: species, dtype: object"
      ]
     },
     "execution_count": 30,
     "metadata": {},
     "output_type": "execute_result"
    }
   ],
   "source": [
    "chi_sample = chi_population.sample(30)\n",
    "chi_sample"
   ]
  },
  {
   "cell_type": "code",
   "execution_count": 31,
   "id": "413c5bdd",
   "metadata": {},
   "outputs": [
    {
     "data": {
      "text/plain": [
       "setosa        50\n",
       "versicolor    50\n",
       "virginica     50\n",
       "Name: species, dtype: int64"
      ]
     },
     "execution_count": 31,
     "metadata": {},
     "output_type": "execute_result"
    }
   ],
   "source": [
    "chi_population.value_counts()"
   ]
  },
  {
   "cell_type": "code",
   "execution_count": 32,
   "id": "241dd1cb",
   "metadata": {},
   "outputs": [
    {
     "data": {
      "text/plain": [
       "versicolor    14\n",
       "virginica     12\n",
       "setosa         4\n",
       "Name: species, dtype: int64"
      ]
     },
     "execution_count": 32,
     "metadata": {},
     "output_type": "execute_result"
    }
   ],
   "source": [
    "chi_sample.value_counts()"
   ]
  },
  {
   "cell_type": "code",
   "execution_count": 33,
   "id": "b6709e39",
   "metadata": {},
   "outputs": [],
   "source": [
    "# VERY VERY IMPORTANT CODE !!!!!!!!\n",
    "\n",
    "chi_data = pd.concat((chi_population.value_counts(),chi_population.value_counts()/chi_population.count(),chi_sample.value_counts(),chi_sample.value_counts()/chi_sample.count()),axis=1)"
   ]
  },
  {
   "cell_type": "code",
   "execution_count": 34,
   "id": "a28d9816",
   "metadata": {},
   "outputs": [
    {
     "data": {
      "text/html": [
       "<div>\n",
       "<style scoped>\n",
       "    .dataframe tbody tr th:only-of-type {\n",
       "        vertical-align: middle;\n",
       "    }\n",
       "\n",
       "    .dataframe tbody tr th {\n",
       "        vertical-align: top;\n",
       "    }\n",
       "\n",
       "    .dataframe thead th {\n",
       "        text-align: right;\n",
       "    }\n",
       "</style>\n",
       "<table border=\"1\" class=\"dataframe\">\n",
       "  <thead>\n",
       "    <tr style=\"text-align: right;\">\n",
       "      <th></th>\n",
       "      <th>population</th>\n",
       "      <th>population_relative</th>\n",
       "      <th>sample</th>\n",
       "      <th>sample_relative</th>\n",
       "    </tr>\n",
       "  </thead>\n",
       "  <tbody>\n",
       "    <tr>\n",
       "      <th>setosa</th>\n",
       "      <td>50</td>\n",
       "      <td>0.333333</td>\n",
       "      <td>4</td>\n",
       "      <td>0.133333</td>\n",
       "    </tr>\n",
       "    <tr>\n",
       "      <th>versicolor</th>\n",
       "      <td>50</td>\n",
       "      <td>0.333333</td>\n",
       "      <td>14</td>\n",
       "      <td>0.466667</td>\n",
       "    </tr>\n",
       "    <tr>\n",
       "      <th>virginica</th>\n",
       "      <td>50</td>\n",
       "      <td>0.333333</td>\n",
       "      <td>12</td>\n",
       "      <td>0.400000</td>\n",
       "    </tr>\n",
       "  </tbody>\n",
       "</table>\n",
       "</div>"
      ],
      "text/plain": [
       "            population  population_relative  sample  sample_relative\n",
       "setosa              50             0.333333       4         0.133333\n",
       "versicolor          50             0.333333      14         0.466667\n",
       "virginica           50             0.333333      12         0.400000"
      ]
     },
     "execution_count": 34,
     "metadata": {},
     "output_type": "execute_result"
    }
   ],
   "source": [
    "chi_data.columns = ['population','population_relative','sample','sample_relative']\n",
    "chi_data"
   ]
  },
  {
   "cell_type": "code",
   "execution_count": 35,
   "id": "2b648ea7",
   "metadata": {},
   "outputs": [
    {
     "data": {
      "text/html": [
       "<div>\n",
       "<style scoped>\n",
       "    .dataframe tbody tr th:only-of-type {\n",
       "        vertical-align: middle;\n",
       "    }\n",
       "\n",
       "    .dataframe tbody tr th {\n",
       "        vertical-align: top;\n",
       "    }\n",
       "\n",
       "    .dataframe thead th {\n",
       "        text-align: right;\n",
       "    }\n",
       "</style>\n",
       "<table border=\"1\" class=\"dataframe\">\n",
       "  <thead>\n",
       "    <tr style=\"text-align: right;\">\n",
       "      <th></th>\n",
       "      <th>population</th>\n",
       "      <th>population_relative</th>\n",
       "      <th>sample</th>\n",
       "      <th>sample_relative</th>\n",
       "      <th>sample_expected</th>\n",
       "    </tr>\n",
       "  </thead>\n",
       "  <tbody>\n",
       "    <tr>\n",
       "      <th>setosa</th>\n",
       "      <td>50</td>\n",
       "      <td>0.333333</td>\n",
       "      <td>4</td>\n",
       "      <td>0.133333</td>\n",
       "      <td>10.0</td>\n",
       "    </tr>\n",
       "    <tr>\n",
       "      <th>versicolor</th>\n",
       "      <td>50</td>\n",
       "      <td>0.333333</td>\n",
       "      <td>14</td>\n",
       "      <td>0.466667</td>\n",
       "      <td>10.0</td>\n",
       "    </tr>\n",
       "    <tr>\n",
       "      <th>virginica</th>\n",
       "      <td>50</td>\n",
       "      <td>0.333333</td>\n",
       "      <td>12</td>\n",
       "      <td>0.400000</td>\n",
       "      <td>10.0</td>\n",
       "    </tr>\n",
       "  </tbody>\n",
       "</table>\n",
       "</div>"
      ],
      "text/plain": [
       "            population  population_relative  sample  sample_relative  \\\n",
       "setosa              50             0.333333       4         0.133333   \n",
       "versicolor          50             0.333333      14         0.466667   \n",
       "virginica           50             0.333333      12         0.400000   \n",
       "\n",
       "            sample_expected  \n",
       "setosa                 10.0  \n",
       "versicolor             10.0  \n",
       "virginica              10.0  "
      ]
     },
     "execution_count": 35,
     "metadata": {},
     "output_type": "execute_result"
    }
   ],
   "source": [
    "chi_data['sample_expected'] = chi_data['population_relative']*chi_data['sample'].sum()\n",
    "chi_data"
   ]
  },
  {
   "cell_type": "code",
   "execution_count": 36,
   "id": "20689594",
   "metadata": {},
   "outputs": [],
   "source": [
    "# Now we have our sample values and expected sample values"
   ]
  },
  {
   "cell_type": "code",
   "execution_count": 37,
   "id": "58c900b9",
   "metadata": {},
   "outputs": [
    {
     "data": {
      "text/html": [
       "<div>\n",
       "<style scoped>\n",
       "    .dataframe tbody tr th:only-of-type {\n",
       "        vertical-align: middle;\n",
       "    }\n",
       "\n",
       "    .dataframe tbody tr th {\n",
       "        vertical-align: top;\n",
       "    }\n",
       "\n",
       "    .dataframe thead th {\n",
       "        text-align: right;\n",
       "    }\n",
       "</style>\n",
       "<table border=\"1\" class=\"dataframe\">\n",
       "  <thead>\n",
       "    <tr style=\"text-align: right;\">\n",
       "      <th></th>\n",
       "      <th>population</th>\n",
       "      <th>population_relative</th>\n",
       "      <th>sample</th>\n",
       "      <th>sample_relative</th>\n",
       "      <th>sample_expected</th>\n",
       "      <th>test</th>\n",
       "    </tr>\n",
       "  </thead>\n",
       "  <tbody>\n",
       "    <tr>\n",
       "      <th>setosa</th>\n",
       "      <td>50</td>\n",
       "      <td>0.333333</td>\n",
       "      <td>4</td>\n",
       "      <td>0.133333</td>\n",
       "      <td>10.0</td>\n",
       "      <td>9.000000</td>\n",
       "    </tr>\n",
       "    <tr>\n",
       "      <th>versicolor</th>\n",
       "      <td>50</td>\n",
       "      <td>0.333333</td>\n",
       "      <td>14</td>\n",
       "      <td>0.466667</td>\n",
       "      <td>10.0</td>\n",
       "      <td>1.142857</td>\n",
       "    </tr>\n",
       "    <tr>\n",
       "      <th>virginica</th>\n",
       "      <td>50</td>\n",
       "      <td>0.333333</td>\n",
       "      <td>12</td>\n",
       "      <td>0.400000</td>\n",
       "      <td>10.0</td>\n",
       "      <td>0.333333</td>\n",
       "    </tr>\n",
       "  </tbody>\n",
       "</table>\n",
       "</div>"
      ],
      "text/plain": [
       "            population  population_relative  sample  sample_relative  \\\n",
       "setosa              50             0.333333       4         0.133333   \n",
       "versicolor          50             0.333333      14         0.466667   \n",
       "virginica           50             0.333333      12         0.400000   \n",
       "\n",
       "            sample_expected      test  \n",
       "setosa                 10.0  9.000000  \n",
       "versicolor             10.0  1.142857  \n",
       "virginica              10.0  0.333333  "
      ]
     },
     "execution_count": 37,
     "metadata": {},
     "output_type": "execute_result"
    }
   ],
   "source": [
    "chi_data['test'] = (chi_data['sample']-chi_data['sample_expected'])**2/chi_data['sample']\n",
    "chi_data"
   ]
  },
  {
   "cell_type": "code",
   "execution_count": 38,
   "id": "7be18d8b",
   "metadata": {},
   "outputs": [
    {
     "data": {
      "text/plain": [
       "10.476190476190476"
      ]
     },
     "execution_count": 38,
     "metadata": {},
     "output_type": "execute_result"
    }
   ],
   "source": [
    "chi_value = chi_data['test'].sum()\n",
    "chi_value"
   ]
  },
  {
   "cell_type": "code",
   "execution_count": 39,
   "id": "bd82fa08",
   "metadata": {},
   "outputs": [
    {
     "name": "stdout",
     "output_type": "stream",
     "text": [
      "Reject the null hypothesis\n"
     ]
    }
   ],
   "source": [
    "# alpha = 0.05,n = 3-1=2(degree of freedom)\n",
    "# so from chi squre table\n",
    "chi_decision_value = 5.991\n",
    "if chi_decision_value < -5.991 or chi_value>5.991:\n",
    "    print('Reject the null hypothesis')\n",
    "else:\n",
    "    print('Fail to reject null hypothesis')"
   ]
  },
  {
   "cell_type": "code",
   "execution_count": null,
   "id": "a00e4bd6",
   "metadata": {},
   "outputs": [],
   "source": []
  },
  {
   "cell_type": "markdown",
   "id": "c8b4c3f1",
   "metadata": {},
   "source": [
    "follow me for more exiting data science related content - Kaluram kharra"
   ]
  },
  {
   "cell_type": "code",
   "execution_count": null,
   "id": "55aafe56",
   "metadata": {},
   "outputs": [],
   "source": []
  }
 ],
 "metadata": {
  "kernelspec": {
   "display_name": "Python 3 (ipykernel)",
   "language": "python",
   "name": "python3"
  },
  "language_info": {
   "codemirror_mode": {
    "name": "ipython",
    "version": 3
   },
   "file_extension": ".py",
   "mimetype": "text/x-python",
   "name": "python",
   "nbconvert_exporter": "python",
   "pygments_lexer": "ipython3",
   "version": "3.10.6"
  }
 },
 "nbformat": 4,
 "nbformat_minor": 5
}
